{
 "cells": [
  {
   "cell_type": "code",
   "execution_count": 1,
   "metadata": {},
   "outputs": [],
   "source": [
    "import pymupdf  # PyMuPDF\n",
    "\n",
    "def remove_pages(input_pdf, output_pdf, pages_to_remove):\n",
    "    doc = pymupdf.open(input_pdf)\n",
    "    \n",
    "    # Delete pages (PyMuPDF uses 0-based indexing)\n",
    "    for page_num in sorted(pages_to_remove, reverse=True):\n",
    "        if 0 <= page_num < len(doc):\n",
    "            doc.delete_page(page_num)\n",
    "\n",
    "    # Save the modified PDF\n",
    "    doc.save(output_pdf)\n",
    "    doc.close()\n",
    "\n",
    "# Example usage\n",
    "remove_pages(\"/home/siddhesh/Downloads/SampleContract-Shuttle.pdf\", \"remove_pages.pdf\", [0, 2, 4])  # Remove 1st, 3rd, and 5th pages (0-based index)\n"
   ]
  },
  {
   "cell_type": "code",
   "execution_count": null,
   "metadata": {},
   "outputs": [],
   "source": []
  }
 ],
 "metadata": {
  "kernelspec": {
   "display_name": "pdf-color",
   "language": "python",
   "name": "python3"
  },
  "language_info": {
   "codemirror_mode": {
    "name": "ipython",
    "version": 3
   },
   "file_extension": ".py",
   "mimetype": "text/x-python",
   "name": "python",
   "nbconvert_exporter": "python",
   "pygments_lexer": "ipython3",
   "version": "3.12.8"
  }
 },
 "nbformat": 4,
 "nbformat_minor": 2
}
